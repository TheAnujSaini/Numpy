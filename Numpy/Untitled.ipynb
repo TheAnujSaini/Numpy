{
 "cells": [
  {
   "cell_type": "code",
   "execution_count": 1,
   "id": "ea7faa10-2244-4921-9ea8-c609eeb5fa3c",
   "metadata": {},
   "outputs": [
    {
     "name": "stdout",
     "output_type": "stream",
     "text": [
      "[[1 2 3]\n",
      " [4 5 6]\n",
      " [7 8 9]]\n"
     ]
    }
   ],
   "source": [
    "import numpy as np\n",
    "\n",
    "arr = np.array([[1, 2, 3], \n",
    "                [4, 5, 6], \n",
    "                [7, 8, 9]])\n",
    "\n",
    "print(arr)"
   ]
  },
  {
   "cell_type": "code",
   "execution_count": 3,
   "id": "4412a020-7e89-40f0-b27d-6e88caaada0e",
   "metadata": {},
   "outputs": [
    {
     "data": {
      "text/plain": [
       "array([1, 2, 3])"
      ]
     },
     "execution_count": 3,
     "metadata": {},
     "output_type": "execute_result"
    }
   ],
   "source": [
    "arr[0]"
   ]
  },
  {
   "cell_type": "code",
   "execution_count": 4,
   "id": "5fa53d9b-bef7-4fb7-80a4-7456b63ce34f",
   "metadata": {},
   "outputs": [
    {
     "name": "stdout",
     "output_type": "stream",
     "text": [
      "[12 15 18]\n",
      "[ 6 15 24]\n"
     ]
    }
   ],
   "source": [
    "print(np.sum(arr, axis=0))  # Sum along rows (down each column)\n",
    "print(np.sum(arr, axis=1))  # Sum along columns (across each row)"
   ]
  },
  {
   "cell_type": "code",
   "execution_count": 5,
   "id": "8df44299-a46b-4cda-85dc-c2675c78d015",
   "metadata": {},
   "outputs": [
    {
     "data": {
      "text/plain": [
       "np.int64(2)"
      ]
     },
     "execution_count": 5,
     "metadata": {},
     "output_type": "execute_result"
    }
   ],
   "source": [
    "arr[0][1]"
   ]
  },
  {
   "cell_type": "code",
   "execution_count": 6,
   "id": "8bb00ae1-c39a-492a-ade3-b6f21613e4c3",
   "metadata": {},
   "outputs": [
    {
     "name": "stdout",
     "output_type": "stream",
     "text": [
      "[[2 3]\n",
      " [5 6]]\n"
     ]
    }
   ],
   "source": [
    "print(arr[0:2, 1:3])  # Extracts first 2 rows and last 2 columns"
   ]
  },
  {
   "cell_type": "code",
   "execution_count": 11,
   "id": "16530794-1dd5-4f12-8755-daf8d136f34c",
   "metadata": {},
   "outputs": [
    {
     "name": "stdout",
     "output_type": "stream",
     "text": [
      "(2, 2, 3)\n"
     ]
    }
   ],
   "source": [
    "arr3D = np.array([[[1, 2, 3], [4, 5, 6]],\n",
    "                  [[7, 8, 9], [10, 11, 12]]])\n",
    "\n",
    "# Output of arr3D.shape is → (depth, rows, columns)\n",
    "print(arr3D.shape)  # Output: (2, 2, 3) "
   ]
  },
  {
   "cell_type": "code",
   "execution_count": 12,
   "id": "ec230bf5-52c3-4453-a1a3-28c6221844fe",
   "metadata": {},
   "outputs": [
    {
     "data": {
      "text/plain": [
       "array([[[ 1,  2,  3],\n",
       "        [ 4,  5,  6]],\n",
       "\n",
       "       [[ 7,  8,  9],\n",
       "        [10, 11, 12]]])"
      ]
     },
     "execution_count": 12,
     "metadata": {},
     "output_type": "execute_result"
    }
   ],
   "source": [
    "arr3D"
   ]
  },
  {
   "cell_type": "code",
   "execution_count": 14,
   "id": "a20fc4c3-56b4-4780-ad22-db567a12418e",
   "metadata": {},
   "outputs": [
    {
     "name": "stdout",
     "output_type": "stream",
     "text": [
      "6\n",
      "[[1 2 3]\n",
      " [7 8 9]]\n"
     ]
    }
   ],
   "source": [
    "# First sheet, second row, third column\n",
    "print(arr3D[0, 1, 2])  # Output: 6\n",
    "\n",
    "print(arr3D[:, 0, :])   # Get the first row from both sheets"
   ]
  },
  {
   "cell_type": "code",
   "execution_count": null,
   "id": "a8782dbe-c746-43e6-837c-9a076806f04d",
   "metadata": {},
   "outputs": [],
   "source": []
  }
 ],
 "metadata": {
  "kernelspec": {
   "display_name": "Python 3 (ipykernel)",
   "language": "python",
   "name": "python3"
  },
  "language_info": {
   "codemirror_mode": {
    "name": "ipython",
    "version": 3
   },
   "file_extension": ".py",
   "mimetype": "text/x-python",
   "name": "python",
   "nbconvert_exporter": "python",
   "pygments_lexer": "ipython3",
   "version": "3.13.5"
  }
 },
 "nbformat": 4,
 "nbformat_minor": 5
}
