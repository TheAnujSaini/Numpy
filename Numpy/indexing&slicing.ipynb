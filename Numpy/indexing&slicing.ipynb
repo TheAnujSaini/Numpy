{
 "cells": [
  {
   "cell_type": "code",
   "execution_count": 4,
   "id": "ab772189-ad5c-41d7-9fd1-c13df386453a",
   "metadata": {},
   "outputs": [],
   "source": [
    "import numpy as np\n",
    "arr = np.array([[1,2,3],[4,5,6],[7,8,9],[10,11,12]])"
   ]
  },
  {
   "cell_type": "code",
   "execution_count": 5,
   "id": "be2cc7a3-df1b-425a-897e-aef2d94c0a42",
   "metadata": {},
   "outputs": [
    {
     "data": {
      "text/plain": [
       "array([[ 1,  2,  3],\n",
       "       [ 4,  5,  6],\n",
       "       [ 7,  8,  9],\n",
       "       [10, 11, 12]])"
      ]
     },
     "execution_count": 5,
     "metadata": {},
     "output_type": "execute_result"
    }
   ],
   "source": [
    "arr\n"
   ]
  },
  {
   "cell_type": "code",
   "execution_count": 6,
   "id": "3cfbb820-8241-4070-8e41-9b92accae1be",
   "metadata": {},
   "outputs": [],
   "source": [
    "flat = arr.flatten()"
   ]
  },
  {
   "cell_type": "code",
   "execution_count": 7,
   "id": "f47561d5-98c8-4aa6-accf-00e2f94dbce2",
   "metadata": {},
   "outputs": [
    {
     "data": {
      "text/plain": [
       "array([ 1,  2,  3,  4,  5,  6,  7,  8,  9, 10, 11, 12])"
      ]
     },
     "execution_count": 7,
     "metadata": {},
     "output_type": "execute_result"
    }
   ],
   "source": [
    "flat"
   ]
  },
  {
   "cell_type": "code",
   "execution_count": 8,
   "id": "cee8c7b0-b6e2-4629-a299-f3d0dedace94",
   "metadata": {},
   "outputs": [
    {
     "data": {
      "text/plain": [
       "np.int64(1)"
      ]
     },
     "execution_count": 8,
     "metadata": {},
     "output_type": "execute_result"
    }
   ],
   "source": [
    "flat[0]"
   ]
  },
  {
   "cell_type": "code",
   "execution_count": 9,
   "id": "4e0527cf-93be-481f-a693-b36c908c5e42",
   "metadata": {},
   "outputs": [
    {
     "data": {
      "text/plain": [
       "array([1, 2, 3, 4, 5])"
      ]
     },
     "execution_count": 9,
     "metadata": {},
     "output_type": "execute_result"
    }
   ],
   "source": [
    "flat[:5]"
   ]
  },
  {
   "cell_type": "code",
   "execution_count": 10,
   "id": "736d32cc-d4e1-406e-9992-3812eeeb2778",
   "metadata": {},
   "outputs": [
    {
     "data": {
      "text/plain": [
       "array([ 3,  4,  5,  6,  7,  8,  9, 10, 11, 12])"
      ]
     },
     "execution_count": 10,
     "metadata": {},
     "output_type": "execute_result"
    }
   ],
   "source": [
    "flat[2:]"
   ]
  },
  {
   "cell_type": "code",
   "execution_count": 11,
   "id": "ef34cb11-5856-4dfb-b083-967a24a40c22",
   "metadata": {},
   "outputs": [
    {
     "data": {
      "text/plain": [
       "array([ 1,  2,  3,  4,  5,  6,  7,  8,  9, 10, 11, 12])"
      ]
     },
     "execution_count": 11,
     "metadata": {},
     "output_type": "execute_result"
    }
   ],
   "source": [
    "flat"
   ]
  },
  {
   "cell_type": "code",
   "execution_count": 12,
   "id": "8fd2d649-c29c-4ea7-8189-5966f2a366e4",
   "metadata": {},
   "outputs": [],
   "source": [
    "b = flat[0:5]"
   ]
  },
  {
   "cell_type": "code",
   "execution_count": 13,
   "id": "5e50fd69-35d7-4c1f-a5bb-e766b37d949c",
   "metadata": {},
   "outputs": [
    {
     "data": {
      "text/plain": [
       "array([1, 2, 3, 4, 5])"
      ]
     },
     "execution_count": 13,
     "metadata": {},
     "output_type": "execute_result"
    }
   ],
   "source": [
    "b"
   ]
  },
  {
   "cell_type": "code",
   "execution_count": 14,
   "id": "f2f8299b-692d-4e99-b92d-9e43fa6b85f4",
   "metadata": {},
   "outputs": [],
   "source": [
    "b[0]= 12345"
   ]
  },
  {
   "cell_type": "code",
   "execution_count": 15,
   "id": "57973b18-deff-4808-9d5f-74808ba1c6a9",
   "metadata": {},
   "outputs": [
    {
     "data": {
      "text/plain": [
       "array([12345,     2,     3,     4,     5])"
      ]
     },
     "execution_count": 15,
     "metadata": {},
     "output_type": "execute_result"
    }
   ],
   "source": [
    "b"
   ]
  },
  {
   "cell_type": "code",
   "execution_count": 16,
   "id": "bc5d3a89-8596-401b-b554-a8e029ebfba8",
   "metadata": {},
   "outputs": [
    {
     "data": {
      "text/plain": [
       "array([12345,     2,     3,     4,     5,     6,     7,     8,     9,\n",
       "          10,    11,    12])"
      ]
     },
     "execution_count": 16,
     "metadata": {},
     "output_type": "execute_result"
    }
   ],
   "source": [
    "flat"
   ]
  },
  {
   "cell_type": "code",
   "execution_count": 35,
   "id": "6c4013a6-a053-46d0-a973-74e36658c77e",
   "metadata": {},
   "outputs": [
    {
     "name": "stdout",
     "output_type": "stream",
     "text": [
      "[10 30 50]\n"
     ]
    }
   ],
   "source": [
    "arr = np.array([10, 20, 30, 40, 50])\n",
    "idx = [0, 2, 4]  # Indices to select\n",
    "print(arr[idx])  # [10 30 50]"
   ]
  },
  {
   "cell_type": "code",
   "execution_count": 36,
   "id": "c580bf3e-71d9-4aab-92af-5b27105efa31",
   "metadata": {},
   "outputs": [
    {
     "data": {
      "text/plain": [
       "array([20, 30, 40, 50])"
      ]
     },
     "execution_count": 36,
     "metadata": {},
     "output_type": "execute_result"
    }
   ],
   "source": [
    "arr[arr>10]"
   ]
  },
  {
   "cell_type": "code",
   "execution_count": 40,
   "id": "083c70f9-c247-47b1-9111-cf36b776ce48",
   "metadata": {},
   "outputs": [],
   "source": [
    "#Create a 3×3 array filled with random numbers and print its shape.\n",
    "import numpy as np\n",
    "arr = np.array([[1,2,3],[4,5,6],[7,8,9]])"
   ]
  },
  {
   "cell_type": "code",
   "execution_count": 41,
   "id": "7e0a810c-3d98-4f8e-8f76-eef4a6d7ae6e",
   "metadata": {},
   "outputs": [
    {
     "data": {
      "text/plain": [
       "array([[1, 2, 3],\n",
       "       [4, 5, 6],\n",
       "       [7, 8, 9]])"
      ]
     },
     "execution_count": 41,
     "metadata": {},
     "output_type": "execute_result"
    }
   ],
   "source": [
    "arr"
   ]
  },
  {
   "cell_type": "code",
   "execution_count": 42,
   "id": "eed5ed84-2f19-4212-87a3-400277e78e2a",
   "metadata": {},
   "outputs": [
    {
     "data": {
      "text/plain": [
       "(3, 3)"
      ]
     },
     "execution_count": 42,
     "metadata": {},
     "output_type": "execute_result"
    }
   ],
   "source": [
    "arr.shape"
   ]
  },
  {
   "cell_type": "code",
   "execution_count": 49,
   "id": "e604e99b-9ed5-4d19-9dd1-8a971b5dbebb",
   "metadata": {},
   "outputs": [
    {
     "name": "stdout",
     "output_type": "stream",
     "text": [
      "[1 2 3]\n"
     ]
    }
   ],
   "source": [
    "#Convert an array of floats [1.1, 2.2, 3.3] into integers.\n",
    "import numpy as np\n",
    "float_array = np.array([1.1, 2.2, 3.3])\n",
    "int_array = float_array.astype(int)\n",
    "print(int_array)  # Output: [1 2 3]\n"
   ]
  },
  {
   "cell_type": "code",
   "execution_count": 50,
   "id": "6c2cb5be-1ba0-42c6-a50d-c3d1ab0429a9",
   "metadata": {},
   "outputs": [],
   "source": [
    "#Use fancy indexing to extract even numbers from [1, 2, 3, 4, 5, 6]\n",
    "arr= np.array([1, 2, 3, 4, 5, 6])"
   ]
  },
  {
   "cell_type": "code",
   "execution_count": 51,
   "id": "a2923e6d-0e13-4239-b7c1-1d2dc5243e19",
   "metadata": {},
   "outputs": [
    {
     "data": {
      "text/plain": [
       "array([1, 2, 3, 4, 5, 6])"
      ]
     },
     "execution_count": 51,
     "metadata": {},
     "output_type": "execute_result"
    }
   ],
   "source": [
    "arr"
   ]
  },
  {
   "cell_type": "code",
   "execution_count": 56,
   "id": "192c9e58-35cc-47fc-8f3f-8bf3aeacfb0d",
   "metadata": {},
   "outputs": [
    {
     "name": "stdout",
     "output_type": "stream",
     "text": [
      "[2 4 6]\n"
     ]
    }
   ],
   "source": [
    "even_numbers = arr[arr % 2 == 0]\n",
    "\n",
    "print(even_numbers)  # Output: [2 4 6]\n"
   ]
  },
  {
   "cell_type": "code",
   "execution_count": 57,
   "id": "289c88a0-c396-46b3-ab63-bf6440e61466",
   "metadata": {},
   "outputs": [],
   "source": [
    "#Reshape a 1D array of size 9 into a 3×3 matrix.\n",
    "arr=np.array([1,2,3,4,5,6,7,8,9])"
   ]
  },
  {
   "cell_type": "code",
   "execution_count": 58,
   "id": "32264ba3-47ee-4603-a8dc-b96d0db20c4d",
   "metadata": {},
   "outputs": [
    {
     "data": {
      "text/plain": [
       "array([1, 2, 3, 4, 5, 6, 7, 8, 9])"
      ]
     },
     "execution_count": 58,
     "metadata": {},
     "output_type": "execute_result"
    }
   ],
   "source": [
    "arr"
   ]
  },
  {
   "cell_type": "code",
   "execution_count": 59,
   "id": "eb2a2b35-94d6-4841-9723-f26e8ea97ab2",
   "metadata": {},
   "outputs": [],
   "source": [
    "reshaped=arr.reshape(3,3)"
   ]
  },
  {
   "cell_type": "code",
   "execution_count": 60,
   "id": "cb51f669-a8b2-4845-8dd9-53e23a7c5413",
   "metadata": {},
   "outputs": [
    {
     "data": {
      "text/plain": [
       "array([[1, 2, 3],\n",
       "       [4, 5, 6],\n",
       "       [7, 8, 9]])"
      ]
     },
     "execution_count": 60,
     "metadata": {},
     "output_type": "execute_result"
    }
   ],
   "source": [
    "reshaped"
   ]
  },
  {
   "cell_type": "code",
   "execution_count": 61,
   "id": "b1c4b733-325b-4495-9721-c5384049c140",
   "metadata": {},
   "outputs": [],
   "source": [
    "#Use boolean masking to filter numbers greater than 50 in an array.\n",
    "arr = np.array([10,20,50,60,70])"
   ]
  },
  {
   "cell_type": "code",
   "execution_count": 62,
   "id": "ff6272c4-bf73-439b-950e-96c9f2c39d9c",
   "metadata": {},
   "outputs": [
    {
     "data": {
      "text/plain": [
       "array([60, 70])"
      ]
     },
     "execution_count": 62,
     "metadata": {},
     "output_type": "execute_result"
    }
   ],
   "source": [
    "arr[arr>50]"
   ]
  },
  {
   "cell_type": "code",
   "execution_count": null,
   "id": "f7732ef4-472a-4aed-86b6-ba6e7e55e6df",
   "metadata": {},
   "outputs": [],
   "source": []
  }
 ],
 "metadata": {
  "kernelspec": {
   "display_name": "Python 3 (ipykernel)",
   "language": "python",
   "name": "python3"
  },
  "language_info": {
   "codemirror_mode": {
    "name": "ipython",
    "version": 3
   },
   "file_extension": ".py",
   "mimetype": "text/x-python",
   "name": "python",
   "nbconvert_exporter": "python",
   "pygments_lexer": "ipython3",
   "version": "3.13.5"
  }
 },
 "nbformat": 4,
 "nbformat_minor": 5
}
